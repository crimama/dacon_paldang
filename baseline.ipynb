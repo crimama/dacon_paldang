{
 "cells": [
  {
   "cell_type": "markdown",
   "id": "af976f7f-285d-4747-97cb-b7ef4b5d00f4",
   "metadata": {},
   "source": [
    "# 데이터 로드 "
   ]
  },
  {
   "cell_type": "markdown",
   "id": "c3287506-d5b2-4398-afc5-9fb9f101c429",
   "metadata": {},
   "source": [
    "Data\n",
    "├ Water Data\n",
    "\n",
    "│ ├ data_2012.csv\n",
    "\n",
    "│   ├ ymdhm : 년월일시분\n",
    "\n",
    "│   ├ swl : 팔당댐 현재수위 (단위: El.m)\n",
    "\n",
    "│   ├ inf : 팔당댐 유입량 (단위: m^3/s)\n",
    "\n",
    "│   ├ sfw : 팔당댐 저수량 (단위: 만m^3)\n",
    "\n",
    "│   ├ ecpc : 팔당댐 공용량 (단위: 백만m^3)\n",
    "\n",
    "│   ├ tototf : 총 방류량 (단위: m^3/s)\n",
    "\n",
    "│   ├ tide_level : 강화대교 조위 (단위: cm)\n",
    "\n",
    "│   ├ wl_1018662 : 청담대교 수위 (단위: cm)\n",
    "\n",
    "│   ├ fw_1018662 : 청담대교 유량 (단위: m^3/s)\n",
    "\n",
    "│   ├ wl_1018680 : 잠수교 수위 (단위: cm)\n",
    "\n",
    "│   ├ fw_1018680 : 잠수교 유량 (단위: m^3/s)\n",
    "\n",
    "│   ├ wl_1018683 : 한강대교 수위 (단위: cm)\n",
    "\n",
    "│   ├ fw_1018683 : 한강대교 유량 (단위: m^3/s)\n",
    "\n",
    "│   ├ wl_1019630 : 행주대교 수위 (단위: cm)\n",
    "\n",
    "│   └ fw_1019630 : 행주대교 유량 (단위: m^3/s)\n",
    "\n",
    "│ ├ data_2013.csv\n",
    "\n",
    "…\n",
    "\n",
    "└ └ data_2022.csv\n",
    "\n",
    "└ RainFall Data\n",
    "\n",
    "│ ├ rf_2012.csv\n",
    "\n",
    "│   ├ YMDHM : 년월일시분\n",
    "\n",
    "│   ├ rf_10184100 : 대곡교 강수량\n",
    "\n",
    "│   ├ rf_10184110 : 진관교 강수량\n",
    "\n",
    "│   └ rf_10184140 : 송정동 강수량\n",
    "\n",
    "│ ├ rf_2013.csv\n",
    "\n",
    "…\n",
    "\n",
    "└ └ rf_2022.csv"
   ]
  },
  {
   "cell_type": "code",
   "execution_count": 1,
   "id": "922136cc-c294-43dd-95b1-33a3f2a22903",
   "metadata": {},
   "outputs": [
    {
     "name": "stdout",
     "output_type": "stream",
     "text": [
      "/data/Dacon_paldang\n"
     ]
    }
   ],
   "source": [
    "%cd Dacon_paldang"
   ]
  },
  {
   "cell_type": "code",
   "execution_count": 2,
   "id": "5e101b60-b464-4363-9b06-43a0041e62a2",
   "metadata": {},
   "outputs": [],
   "source": [
    "import pandas as pd\n",
    "import numpy as np\n",
    "import matplotlib.pyplot as plt \n",
    "import os \n",
    "\n",
    "from glob import glob\n",
    "from tqdm import tqdm\n",
    "from scipy import interpolate\n",
    "from DataGenerator import DataGenerator\n",
    "\n",
    "import tensorflow as tf\n",
    "from keras.models import Sequential\n",
    "from keras.layers import Dense, LSTM, GRU, AveragePooling1D, GlobalAveragePooling1D"
   ]
  },
  {
   "cell_type": "code",
   "execution_count": 3,
   "id": "705329fa-eeed-4d94-b46d-0231cc6d0c92",
   "metadata": {},
   "outputs": [],
   "source": [
    "def load_files(fold_dir):\n",
    "    file_dirs = sorted(glob(f'{fold_dir}/*'))\n",
    "    df = pd.read_csv(file_dirs[0])\n",
    "    for i in range(1,len(file_dirs)):\n",
    "        temp_df = pd.read_csv(file_dirs[i])\n",
    "        df = pd.concat([df,temp_df])\n",
    "    df = df.reset_index(drop=True)\n",
    "    return df \n",
    "\n",
    "def preprocess_df(df):\n",
    "    #컬럼 설정 \n",
    "    #제외 컬럼 : 'fw_1018680'\n",
    "    columns = ['ymdhm','swl','inf','sfw','ecpc','tototf','tide_level','fw_1018662','fw_1018683','rf_10184100','rf_10184110','rf_10184140','wl_1018662','wl_1018680','wl_1018683','wl_1019630']\n",
    "    df = df[columns]\n",
    "    #결측치 설정 \n",
    "    df = df.fillna(method=\"ffill\")\n",
    "    #데이트타임 \n",
    "    df['ymdhm'] = pd.to_datetime(df['ymdhm'])\n",
    "    #test 데이터 범위 제외 \n",
    "    df = df.iloc[:-6912]\n",
    "    return df \n",
    "    \n",
    "\n",
    "def load_df():\n",
    "    water = load_files('water_data')\n",
    "    rf = load_files('rf_data')\n",
    "    \n",
    "    df = pd.concat([water,rf.drop(columns='ymdhm')],axis=1)\n",
    "    df = preprocess_df(df)\n",
    "    return df \n",
    "\n",
    "def scailng_df(df):\n",
    "    timestamps = df['ymdhm']\n",
    "    min_value = np.min(df,axis=0)\n",
    "    max_value = np.max(df,axis=0)\n",
    "    \n",
    "    scalied_df = (df-min_value)/(max_value-min_value)\n",
    "    \n",
    "    scalied_df['ymdhm'] = timestamps\n",
    "    scaling_value = {'min' : min_value,\n",
    "                     'max' : max_value\n",
    "                    }\n",
    "    \n",
    "    return scalied_df,scaling_value \n",
    "\n",
    "#df 생성 및 전처리 \n",
    "os.chdir('/data/Dacon_paldang/data')\n",
    "df = load_df()\n",
    "df,scaling_value = scailng_df(df)\n",
    "\n",
    "#키값(타임스탬프) 생성 \n",
    "timestamps = df['ymdhm'].to_numpy()[30:]\n",
    "\n",
    "#input - output column \n",
    "input_columns = ['swl','inf','sfw','ecpc','tototf','tide_level','fw_1018662','fw_1018683','wl_1019630','rf_10184100','rf_10184110','rf_10184140']\n",
    "output_columns = ['wl_1018662','wl_1018680','wl_1018683','wl_1019630']\n",
    "\n",
    "#하이퍼 파라미터 \n",
    "opt = {} \n",
    "opt['batch_size'] = 32\n",
    "opt['shuffle'] = True\n",
    "opt['subset_length'] = 6\n",
    "opt['timestamps'] = timestamps \n",
    "opt['input'] = input_columns\n",
    "opt['output_columns'] = output_columns\n",
    "opt['input_columns'] = input_columns "
   ]
  },
  {
   "cell_type": "markdown",
   "id": "7578744a-7df0-42b9-bf6a-94f8ec388a29",
   "metadata": {},
   "source": [
    "# 모델 "
   ]
  },
  {
   "cell_type": "code",
   "execution_count": 4,
   "id": "d5fb6d41-917a-4495-ae1c-e8a5afb16448",
   "metadata": {},
   "outputs": [],
   "source": [
    "import tensorflow as tf\n",
    "from tensorflow import keras \n",
    "tf.executing_eagerly()\n",
    "from tensorflow.keras import optimizers\n",
    "from tensorflow.keras.metrics import Recall\n",
    "from tensorflow.keras import layers\n",
    "from tensorflow.keras import Model\n",
    "from tensorflow.keras import backend as K\n",
    "from tensorflow.keras.optimizers import Adam\n",
    "from tensorflow.keras.layers import Bidirectional, LSTM, BatchNormalization,Input,Dropout,Dense,Conv2D,Concatenate,Flatten,Conv1D,Conv2D,MaxPooling1D\n",
    "from tensorflow.keras.layers import Reshape,Embedding,concatenate\n",
    "from tensorflow.keras.utils import plot_model\n",
    "from keras.layers.pooling import GlobalAveragePooling2D,GlobalAveragePooling3D,AveragePooling3D,MaxPooling2D\n",
    "import os\n",
    "os.environ[\"CUDA_VISIBLE_DEVICES\"] = \"0\""
   ]
  },
  {
   "cell_type": "code",
   "execution_count": 8,
   "id": "97908adc-9e96-49ae-991d-4752722160ee",
   "metadata": {},
   "outputs": [],
   "source": [
    "# copy from https://gist.github.com/stared/dfb4dfaf6d9a8501cd1cc8b8cb806d2e\n",
    "# loss 실시간 출력 \n",
    "from IPython.display import clear_output\n",
    "from tensorflow.keras.callbacks import Callback\n",
    "n=0\n",
    "class PlotLosses(Callback):\n",
    "    def on_train_begin(self, logs={}):\n",
    "        self.epochs = []\n",
    "        self.losses = []\n",
    "        self.val_losses = []\n",
    "        self.logs = []\n",
    "        self.fig = plt.figure()\n",
    "\n",
    "\n",
    "    def on_epoch_end(self, epoch, logs={}):\n",
    "        global n,airport\n",
    "\n",
    "        self.epochs.append(epoch)\n",
    "        self.losses.append(logs.get('loss'))\n",
    "        self.val_losses.append(logs.get('val_loss'))\n",
    "\n",
    "        clear_output(wait=True)\n",
    "        plt.plot(self.epochs, self.losses, label=\"loss\")\n",
    "        plt.plot(self.epochs, self.val_losses, label=\"val_loss\")\n",
    "        plt.legend()\n",
    "        plt.show();\n",
    "        print(\"loss = \", self.losses[-1], \", val_loss = \", self.val_losses[-1])\n",
    "        \n",
    "\n",
    "#call backs 선언\n",
    "plot_losses = PlotLosses()\n",
    "\n",
    "from tensorflow.keras.callbacks import ModelCheckpoint #<- model 저장 객체, best_model.h5라는 모델 이 저장 됨 \n",
    "model_check_point = ModelCheckpoint(\n",
    "    f'../save_model/',\n",
    "    monitor='val_loss', \n",
    "    verbose=1, \n",
    "    save_best_only=True)\n",
    "\n",
    "\n",
    "callbacks = [ plot_losses,model_check_point]"
   ]
  },
  {
   "cell_type": "code",
   "execution_count": 6,
   "id": "a641d065-91ab-40b7-90bc-04554b748cfd",
   "metadata": {},
   "outputs": [
    {
     "name": "stderr",
     "output_type": "stream",
     "text": [
      "2022-08-03 06:28:44.723844: I tensorflow/stream_executor/cuda/cuda_gpu_executor.cc:975] successful NUMA node read from SysFS had negative value (-1), but there must be at least one NUMA node, so returning NUMA node zero\n",
      "2022-08-03 06:28:44.729468: I tensorflow/stream_executor/cuda/cuda_gpu_executor.cc:975] successful NUMA node read from SysFS had negative value (-1), but there must be at least one NUMA node, so returning NUMA node zero\n",
      "2022-08-03 06:28:44.729901: I tensorflow/stream_executor/cuda/cuda_gpu_executor.cc:975] successful NUMA node read from SysFS had negative value (-1), but there must be at least one NUMA node, so returning NUMA node zero\n",
      "2022-08-03 06:28:44.730528: I tensorflow/core/platform/cpu_feature_guard.cc:193] This TensorFlow binary is optimized with oneAPI Deep Neural Network Library (oneDNN) to use the following CPU instructions in performance-critical operations:  AVX2 FMA\n",
      "To enable them in other operations, rebuild TensorFlow with the appropriate compiler flags.\n",
      "2022-08-03 06:28:44.730830: I tensorflow/stream_executor/cuda/cuda_gpu_executor.cc:975] successful NUMA node read from SysFS had negative value (-1), but there must be at least one NUMA node, so returning NUMA node zero\n",
      "2022-08-03 06:28:44.731239: I tensorflow/stream_executor/cuda/cuda_gpu_executor.cc:975] successful NUMA node read from SysFS had negative value (-1), but there must be at least one NUMA node, so returning NUMA node zero\n",
      "2022-08-03 06:28:44.731633: I tensorflow/stream_executor/cuda/cuda_gpu_executor.cc:975] successful NUMA node read from SysFS had negative value (-1), but there must be at least one NUMA node, so returning NUMA node zero\n",
      "2022-08-03 06:28:45.235084: I tensorflow/stream_executor/cuda/cuda_gpu_executor.cc:975] successful NUMA node read from SysFS had negative value (-1), but there must be at least one NUMA node, so returning NUMA node zero\n",
      "2022-08-03 06:28:45.235448: I tensorflow/stream_executor/cuda/cuda_gpu_executor.cc:975] successful NUMA node read from SysFS had negative value (-1), but there must be at least one NUMA node, so returning NUMA node zero\n",
      "2022-08-03 06:28:45.235759: I tensorflow/stream_executor/cuda/cuda_gpu_executor.cc:975] successful NUMA node read from SysFS had negative value (-1), but there must be at least one NUMA node, so returning NUMA node zero\n",
      "2022-08-03 06:28:45.236082: I tensorflow/core/common_runtime/gpu/gpu_device.cc:1532] Created device /job:localhost/replica:0/task:0/device:GPU:0 with 9632 MB memory:  -> device: 0, name: NVIDIA GeForce RTX 2080 Ti, pci bus id: 0000:01:00.0, compute capability: 7.5\n"
     ]
    }
   ],
   "source": [
    "def transformer_encoder(inputs, head_size, num_heads, ff_dim, dropout=0):\n",
    "    # Attention and Normalization\n",
    "    x = layers.MultiHeadAttention(\n",
    "        key_dim=head_size, num_heads=num_heads, dropout=dropout\n",
    "    )(inputs, inputs)\n",
    "    x = layers.Dropout(dropout)(x)\n",
    "    x = layers.LayerNormalization(epsilon=1e-6)(x)\n",
    "    res = x + inputs\n",
    "    # Feed Forward Part\n",
    "    x = layers.Conv1D(filters=ff_dim, kernel_size=1, activation=\"relu\")(res)\n",
    "    x = layers.Dropout(dropout)(x)\n",
    "    x = layers.Conv1D(filters=inputs.shape[-1], kernel_size=1)(x)\n",
    "    x = layers.LayerNormalization(epsilon=1e-6)(x)\n",
    "    return x + res \n",
    "\n",
    "def build_model(\n",
    "    input_shape,\n",
    "    head_size,\n",
    "    num_heads,\n",
    "    ff_dim,\n",
    "    num_transformer_blocks,\n",
    "    mlp_units,\n",
    "    dropout=0,\n",
    "    mlp_dropout=0,\n",
    "):\n",
    "    inputs = keras.Input(shape=input_shape)\n",
    "    x = inputs\n",
    "    \n",
    "    for _ in range(num_transformer_blocks):\n",
    "        x = transformer_encoder(x, head_size, num_heads, ff_dim, dropout)\n",
    "\n",
    "    x = layers.GlobalAveragePooling1D(data_format=\"channels_first\")(x)\n",
    "    for dim in mlp_units:\n",
    "        x = layers.Dense(dim, activation=\"relu\")(x)\n",
    "        x = layers.Dropout(mlp_dropout)(x)\n",
    "    outputs = layers.Dense(4, activation=\"sigmoid\")(x)\n",
    "    return keras.Model(inputs, outputs)\n",
    "\n",
    "def root_mean_squared_error(y_true, y_pred):\n",
    "        return K.sqrt(K.mean(K.square(y_pred - y_true))) \n",
    "\n",
    "scheduler = optimizers.schedules.CosineDecay(initial_learning_rate=0.0005,decay_steps=1000,alpha=0.9)\n",
    "    \n",
    "optimizer = optimizers.Adam(learning_rate=scheduler)\n",
    "\n",
    "input_shape = (opt['subset_length'],12)\n",
    "model = build_model(\n",
    "    input_shape,\n",
    "    head_size=256,\n",
    "    num_heads=4,\n",
    "    ff_dim=4,\n",
    "    num_transformer_blocks=4,\n",
    "    mlp_units=[128],\n",
    "    mlp_dropout=0.4,\n",
    "    dropout=0.25,\n",
    ")\n",
    "\n",
    "model.compile(\n",
    "    loss=root_mean_squared_error,\n",
    "    optimizer=optimizer,\n",
    "    metrics=[\"mse\"],\n",
    "    )"
   ]
  },
  {
   "cell_type": "code",
   "execution_count": 9,
   "id": "16ab7dd2-70af-4745-aed5-9492d34fbd17",
   "metadata": {},
   "outputs": [
    {
     "data": {
      "image/png": "[encoded data removed]",
      "text/plain": [
       "<Figure size 432x288 with 1 Axes>"
      ]
     },
     "metadata": {
      "needs_background": "light"
     },
     "output_type": "display_data"
    },
    {
     "name": "stdout",
     "output_type": "stream",
     "text": [
      "loss =  0.014182834886014462 , val_loss =  None\n",
      "WARNING:tensorflow:Can save best model only with val_loss available, skipping.\n",
      "2105/2105 [==============================] - 19s 9ms/step - loss: 0.0142 - mse: 2.0594e-04\n"
     ]
    },
    {
     "data": {
      "text/plain": [
       "<keras.callbacks.History at 0x7fc285945820>"
      ]
     },
     "execution_count": 9,
     "metadata": {},
     "output_type": "execute_result"
    }
   ],
   "source": [
    "opt['batch_size'] = 128\n",
    "\n",
    "train_generator= DataGenerator(opt,df)\n",
    "model.fit(train_generator,epochs=20,verbose=1,callbacks = callbacks)"
   ]
  },
  {
   "cell_type": "markdown",
   "id": "7d99271e-0d33-4877-a9bf-a259091ef6c7",
   "metadata": {},
   "source": [
    "# 테스트 "
   ]
  },
  {
   "cell_type": "code",
   "execution_count": 15,
   "id": "93889947-094f-41be-9a50-24be089b191c",
   "metadata": {},
   "outputs": [],
   "source": [
    "def load_test_df():\n",
    "    water = load_files('water_data')\n",
    "    rf = load_files('rf_data')\n",
    "    test_df = pd.concat([water,rf.drop(columns='ymdhm')],axis=1)\n",
    "    test_df = preprocess_test_df(test_df)\n",
    "    return test_df \n",
    "\n",
    "def preprocess_test_df(df):\n",
    "    #컬럼 설정 \n",
    "    #제외 컬럼 : 'fw_1018680'\n",
    "    columns = ['ymdhm','swl','inf','sfw','ecpc','tototf','tide_level','fw_1018662','fw_1018683','rf_10184100','rf_10184110','rf_10184140','wl_1018662','wl_1018680','wl_1018683','wl_1019630']\n",
    "    df = df[columns]\n",
    "    #결측치 설정 \n",
    "    df = df.fillna(method=\"ffill\")\n",
    "    #데이트타임 \n",
    "    df['ymdhm'] = pd.to_datetime(df['ymdhm'])\n",
    "    \n",
    "    return df \n",
    "\n",
    "def scailng_test(test_df,scaling_value):\n",
    "    min_value = scaling_value['min']\n",
    "    max_value = scaling_value['max']\n",
    "    timestamps = test_df['ymdhm']\n",
    "\n",
    "    scaling_test_df = (test_df-min_value)/(max_value-min_value)\n",
    "    scaling_test_df['ymdhm'] = timestamps \n",
    "    return scaling_test_df \n"
   ]
  },
  {
   "cell_type": "code",
   "execution_count": 17,
   "id": "c34b86aa-e73b-4227-bf8e-590c54d7a35e",
   "metadata": {},
   "outputs": [],
   "source": [
    "test_df = load_test_df() \n",
    "test_df = scailng_test(test_df,scaling_value)   \n",
    "test_df.iloc[:,1:] = test_df.drop(columns=['ymdhm']).apply(lambda x : x.astype(np.float16)) #타입 변경 \n",
    "\n",
    "test_opt = opt.copy()\n",
    "test_opt['timestamps'] = test_df['ymdhm'][-6912:]\n",
    "test_opt['shuffle']=False"
   ]
  },
  {
   "cell_type": "markdown",
   "id": "15d0495d-772d-4d61-8e6b-1d9538a8bb19",
   "metadata": {},
   "source": [
    "## 추론 "
   ]
  },
  {
   "cell_type": "code",
   "execution_count": 20,
   "id": "34f6e4b1-7ac8-4c38-b8d9-ed6f446f6190",
   "metadata": {},
   "outputs": [
    {
     "name": "stdout",
     "output_type": "stream",
     "text": [
      "54/54 [==============================] - 139s 3s/step\n"
     ]
    }
   ],
   "source": [
    "test_d = DataGenerator(test_opt,test_df)\n",
    "y_ = model.predict(test_d)"
   ]
  },
  {
   "cell_type": "markdown",
   "id": "2510e6db-bd89-4c4f-8a9c-a9e63ca1f081",
   "metadata": {},
   "source": [
    "## Post process "
   ]
  },
  {
   "cell_type": "code",
   "execution_count": 21,
   "id": "97b5abfe-0dcc-4153-b751-2d985bc444ee",
   "metadata": {},
   "outputs": [],
   "source": [
    "def reverse_scaling(scaling_value,y_):\n",
    "    min_value = scaling_value['min'].to_numpy()[-4:]\n",
    "    max_value = scaling_value['max'].to_numpy()[-4:]\n",
    "    reverse_value = y_*(max_value-min_value) + min_value \n",
    "    return reverse_value \n",
    "\n",
    "predicted = reverse_scaling(scaling_value,y_)\n",
    "  "
   ]
  },
  {
   "cell_type": "markdown",
   "id": "2fb39172-47a0-4c89-9b27-925fb168229f",
   "metadata": {},
   "source": [
    "## submission "
   ]
  },
  {
   "cell_type": "code",
   "execution_count": 37,
   "id": "86d2a973-615e-4e2e-a342-25c550caae82",
   "metadata": {},
   "outputs": [
    {
     "name": "stdout",
     "output_type": "stream",
     "text": [
      "/data/Dacon_paldang\n"
     ]
    }
   ],
   "source": [
    "%cd '/data/Dacon_paldang'\n",
    "\n",
    "submission = pd.read_csv('sample_submission.csv')\n",
    "submission.iloc[:,1:] = predicted\n",
    "submission.to_csv('submission0805.csv',index=False)"
   ]
  }
 ],
 "metadata": {
  "kernelspec": {
   "display_name": "Python 3 (ipykernel)",
   "language": "python",
   "name": "python3"
  },
  "language_info": {
   "codemirror_mode": {
    "name": "ipython",
    "version": 3
   },
   "file_extension": ".py",
   "mimetype": "text/x-python",
   "name": "python",
   "nbconvert_exporter": "python",
   "pygments_lexer": "ipython3",
   "version": "3.8.10"
  }
 },
 "nbformat": 4,
 "nbformat_minor": 5
}
